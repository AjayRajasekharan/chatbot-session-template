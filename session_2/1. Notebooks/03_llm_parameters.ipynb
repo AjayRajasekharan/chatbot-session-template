{
 "cells": [
  {
   "cell_type": "markdown",
   "id": "a883a0fd",
   "metadata": {},
   "source": [
    "# Session 2 – Notebook 3: LLM Parameters\n",
    "\n",
    "**Objectives:**\n",
    "- Learn about key parameters that control LLM behavior.\n",
    "- Experiment with:\n",
    "  - `temperature` → randomness / creativity.\n",
    "  - `max_new_tokens` → response length.\n",
    "  - `top_p` → diversity of word choices.\n",
    "- Understand how parameter tuning changes chatbot output."
   ]
  },
  {
   "cell_type": "code",
   "execution_count": null,
   "id": "d538dfcb",
   "metadata": {
    "vscode": {
     "languageId": "plaintext"
    }
   },
   "outputs": [],
   "source": [
    "from transformers import pipeline\n",
    "\n",
    "# Load a small instruction-following model\n",
    "# flan-t5-small is light and good for Q&A or simple tasks\n",
    "gen = pipeline(\"text2text-generation\", model=\"google/flan-t5-small\")\n",
    "\n",
    "prompt = \"Write a short story about a dog who becomes a hero.\"\n"
   ]
  },
  {
   "cell_type": "code",
   "execution_count": null,
   "id": "bf543fed",
   "metadata": {
    "vscode": {
     "languageId": "plaintext"
    }
   },
   "outputs": [],
   "source": [
    "# TEMPERATURE -> controls creativity / randomness\n",
    "# Lower = predictable, Higher = more creative/varied\n",
    "\n",
    "print(\"Temperature = 0.2\")\n",
    "print(gen(prompt, temperature=0.2, max_new_tokens=60)[0][\"generated_text\"])"
   ]
  },
  {
   "cell_type": "code",
   "execution_count": null,
   "id": "9ae6059a",
   "metadata": {
    "vscode": {
     "languageId": "plaintext"
    }
   },
   "outputs": [],
   "source": [
    "# TEMPERATURE -> controls creativity / randomness\n",
    "# Lower = predictable, Higher = more creative/varied\n",
    "\n",
    "print(\"\\nTemperature = 0.9\")\n",
    "print(gen(prompt, temperature=0.9, max_new_tokens=60)[0][\"generated_text\"])"
   ]
  },
  {
   "cell_type": "code",
   "execution_count": null,
   "id": "e05ca4b1",
   "metadata": {
    "vscode": {
     "languageId": "plaintext"
    }
   },
   "outputs": [],
   "source": [
    "# MAX NEW TOKENS -> controls how long the response can be\n",
    "# Smaller values = short answers, larger values = detailed answers\n",
    "\n",
    "print(\"Max tokens = 20\")\n",
    "print(gen(prompt, max_new_tokens=20)[0][\"generated_text\"])"
   ]
  },
  {
   "cell_type": "code",
   "execution_count": null,
   "id": "3573a559",
   "metadata": {
    "vscode": {
     "languageId": "plaintext"
    }
   },
   "outputs": [],
   "source": [
    "# MAX NEW TOKENS -> controls how long the response can be\n",
    "# Smaller values = short answers, larger values = detailed answers\n",
    "\n",
    "print(\"\\nMax tokens = 80\")\n",
    "print(gen(prompt, max_new_tokens=80)[0][\"generated_text\"])"
   ]
  },
  {
   "cell_type": "code",
   "execution_count": null,
   "id": "1f3936b9",
   "metadata": {
    "vscode": {
     "languageId": "plaintext"
    }
   },
   "outputs": [],
   "source": [
    "# TOP-P -> controls diversity of word choices\n",
    "# Lower = focused on the most likely words\n",
    "# Higher = allows more diverse / unexpected words\n",
    "\n",
    "print(\"Top-p = 0.5\")\n",
    "print(gen(prompt, top_p=0.5, max_new_tokens=60)[0][\"generated_text\"])"
   ]
  },
  {
   "cell_type": "code",
   "execution_count": null,
   "id": "d3b70200",
   "metadata": {
    "vscode": {
     "languageId": "plaintext"
    }
   },
   "outputs": [],
   "source": [
    "# TOP-P -> controls diversity of word choices\n",
    "# Lower = focused on the most likely words\n",
    "# Higher = allows more diverse / unexpected words\n",
    "\n",
    "print(\"Top-p = 0.5\")\n",
    "print(gen(prompt, top_p=0.5, max_new_tokens=60)[0][\"generated_text\"])\n"
   ]
  },
  {
   "cell_type": "markdown",
   "id": "0b57a7b4",
   "metadata": {},
   "source": [
    "### Reflection\n",
    "\n",
    "- Which response sounded more creative or surprising?  \n",
    "- Which response was the shortest or most factual?  \n",
    "- If you wanted to build a chatbot for **homework help**, what settings would you use?  \n",
    "- If you wanted to build a **storytelling bot**, what settings would you use?  "
   ]
  },
  {
   "cell_type": "code",
   "execution_count": null,
   "id": "7429c1c0",
   "metadata": {
    "vscode": {
     "languageId": "plaintext"
    }
   },
   "outputs": [],
   "source": [
    "# FULL DEMO: Adjust all parameters at once\n",
    "\n",
    "prompt = \"Explain photosynthesis like I am 10 years old.\"\n",
    "\n",
    "response = gen(\n",
    "    prompt,\n",
    "    temperature=0.7,     # creativity\n",
    "    max_new_tokens=80,   # length\n",
    "    top_p=0.9            # diversity\n",
    ")\n",
    "\n",
    "print(\"User:\", prompt)\n",
    "print(\"Bot:\", response[0][\"generated_text\"])\n"
   ]
  }
 ],
 "metadata": {
  "language_info": {
   "name": "python"
  }
 },
 "nbformat": 4,
 "nbformat_minor": 5
}
